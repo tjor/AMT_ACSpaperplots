{
 "cells": [
  {
   "cell_type": "markdown",
   "id": "dc7cb2d9",
   "metadata": {},
   "source": [
    "## Data access notebook for AMT inherent optical properties and HPLC pigments\n",
    "\n",
    "This notebook provides examples of data access for Inherent Optical Properties and HPLC phytoplankton pigment concentrations from the AMT cruises. Examples are provided for SeaBASS (available at XXX) and NetCDF data formats (available at YYYY). The data set is fully described in Jordan et al. (2024), A compilation of surface inherent optical properties and phytoplankton pigment concentrations from the Atlantic Meridional Transect, submitted to Earth System Science Data.\n"
   ]
  },
  {
   "cell_type": "markdown",
   "id": "4abb2182",
   "metadata": {},
   "source": [
    "### 2. Data access from NetCDF files"
   ]
  },
  {
   "cell_type": "markdown",
   "id": "9c27a2ea",
   "metadata": {},
   "source": [
    "Each cruise has a separate NetCDF file, which contains data associated with Inherent Optical Properties (ACS systems, AC9 systems if present, underway meta data) and HPLC pigments (pigment concentrations and associated metadata)."
   ]
  },
  {
   "cell_type": "code",
   "execution_count": 16,
   "id": "d9ea245e",
   "metadata": {},
   "outputs": [],
   "source": [
    "import xarray as xr # the xarray module is recommended to open the NetCDF files in python"
   ]
  },
  {
   "cell_type": "code",
   "execution_count": 17,
   "id": "5613b588",
   "metadata": {},
   "outputs": [],
   "source": [
    "# insert NetCDF data directory here:\n",
    "data_dir_nc = '/data/datasets/cruise_data/active/ACS_Chl/AMT_ACS_2023reprocessing/AMT/'"
   ]
  },
  {
   "cell_type": "markdown",
   "id": "c1eb1bad",
   "metadata": {},
   "source": [
    "### 2.1  IOP data: cruises with a single ACS system \n",
    " AMT 29, AMT 27, AMT 26, AMT 23 and AMT 22 had a single ACS system and no AC9 system. AMT 27 is used as an example\n",
    " "
   ]
  },
  {
   "cell_type": "code",
   "execution_count": 18,
   "id": "0df1a628",
   "metadata": {},
   "outputs": [],
   "source": [
    "fn_nc = 'amt27_final_with_debiased_chl.nc'\n",
    "data_nc = xr.open_dataset(data_dir_nc + fn_nc)"
   ]
  },
  {
   "cell_type": "code",
   "execution_count": 19,
   "id": "87c816e2",
   "metadata": {},
   "outputs": [
    {
     "name": "stdout",
     "output_type": "stream",
     "text": [
      "KeysView(<xarray.Dataset>\n",
      "Dimensions:                      (time: 36482, acs_wv: 176, ac9_wv: 9,\n",
      "                                  bb3_wv: 3, hplc_time: 48)\n",
      "Coordinates:\n",
      "  * time                         (time) datetime64[ns] 2017-09-24T16:10:59.99...\n",
      "  * acs_wv                       (acs_wv) float64 400.0 402.0 ... 748.0 750.0\n",
      "  * ac9_wv                       (ac9_wv) float64 nan nan nan ... nan nan nan\n",
      "  * bb3_wv                       (bb3_wv) float64 470.0 532.0 700.0\n",
      "  * hplc_time                    (hplc_time) datetime64[ns] 2017-09-24T17:27:...\n",
      "Data variables: (12/92)\n",
      "    flow                         (time) float64 ...\n",
      "    acs_chl                      (time) float64 ...\n",
      "    acs_ap                       (time, acs_wv) float64 ...\n",
      "    acs_ap_u                     (time, acs_wv) float64 ...\n",
      "    acs_bp                       (time, acs_wv) float64 ...\n",
      "    acs_bp_u                     (time, acs_wv) float64 ...\n",
      "    ...                           ...\n",
      "    hplc_Tpg                     (hplc_time) float64 ...\n",
      "    hplc_DP                      (hplc_time) float64 ...\n",
      "    hplc_file                    object ...\n",
      "    acs_chl_debiased             (time) float64 ...\n",
      "    acs_chl_nomedfilt            (time) float64 ...\n",
      "    acs_chl_debiased_nomedfilt   (time) float64 ...)\n"
     ]
    }
   ],
   "source": [
    "# These are the complete set of data keys \n",
    "keys = data_nc.keys() \n",
    "print(keys)"
   ]
  },
  {
   "cell_type": "code",
   "execution_count": 20,
   "id": "cbc07aa3",
   "metadata": {},
   "outputs": [
    {
     "name": "stdout",
     "output_type": "stream",
     "text": [
      "['acs_chl', 'acs_ap', 'acs_ap_u', 'acs_bp', 'acs_bp_u', 'acs_cp', 'acs_cp_u', 'acs_N', 'acs_chl_debiased', 'acs_chl_nomedfilt', 'acs_chl_debiased_nomedfilt']\n"
     ]
    }
   ],
   "source": [
    "# These are the keys associated with the ACS system \n",
    "acs_keys = [s for s in keys  if \"acs\" in s]\n",
    "print(acs_keys)"
   ]
  },
  {
   "cell_type": "code",
   "execution_count": 21,
   "id": "bcb2e15b",
   "metadata": {},
   "outputs": [],
   "source": [
    "# These are the ACS IOP data fields and uncertainties\n",
    "\n",
    "ap = data_nc['acs_ap'] # particulate absorption\n",
    "bp = data_nc['acs_bp'] # particulate scattering\n",
    "cp = data_nc['acs_cp'] # particulate beam attenuation\n",
    "\n",
    "ap_u = data_nc['acs_ap_u']  # particulate absorption uncertainty\n",
    "bp_u = data_nc['acs_bp_u']  # particulate scattering uncertainty\n",
    "cp_u = data_nc['acs_cp_u']  # particulate beam attenuation uncertainty\n",
    "\n",
    "wl = data_nc['acs_wv'] # wavelength of ACS IOP data\n",
    "time = data_nc['time'] # timestamp of ACS IOP data\n"
   ]
  },
  {
   "cell_type": "code",
   "execution_count": 22,
   "id": "6a543fca",
   "metadata": {},
   "outputs": [
    {
     "name": "stdout",
     "output_type": "stream",
     "text": [
      "<xarray.DataArray 'acs_chl_debiased' (time: 36482)>\n",
      "[36482 values with dtype=float64]\n",
      "Coordinates:\n",
      "  * time     (time) datetime64[ns] 2017-09-24T16:10:59.999997440 ... 2017-11-...\n",
      "Attributes:\n",
      "    debiasing_equation:   acs.acs_chl_deiased = acs.acs_chl*(1-delta)\n",
      "    delta:                -0.07378529880943258\n",
      "    sigma:                0.11944447655085341\n",
      "    units:                mg/m3\n",
      "    comments:             delta=np.nanmedian(rres), sigma=prcrng(rres), rres=...\n",
      "    HPLC_Tot_chla:        [0.31251738 0.28942639 0.21157547 0.10724928 0.0775...\n",
      "    HPLC_Tot_chla_units:  mg/m3\n",
      "    acs_chl:              [0.54988796 0.24047638 0.16435336 0.19168315 0.0771...\n",
      "    acs_chl_units:        mg/m3\n",
      "    processed_on:         2024-02-27 13:41:40.862009\n",
      "    match_up_dates:       ['2017-09-24 17:27:00', '2017-09-25 11:57:00', '201...\n"
     ]
    }
   ],
   "source": [
    "# These are the HPLC-callibrated (debiased) Tot_Chl_a transects\n",
    "\n",
    "chl_acs =  data_nc['acs_chl_debiased'] # transect with median filter (30 min kernel) as used in callibration match-ups \n",
    "chl_acs =  data_nc['acs_chl_debiased_nomedfilt'] #  unfiltered transect (as saved in SeaBASS files)\n",
    "\n",
    "print(data_nc['acs_chl_debiased']) # data regarding the calibration are stored as attributes"
   ]
  },
  {
   "cell_type": "code",
   "execution_count": 23,
   "id": "274e7bb3",
   "metadata": {},
   "outputs": [
    {
     "name": "stdout",
     "output_type": "stream",
     "text": [
      "['uway_lat', 'uway_gndcourse', 'uway_heading', 'uway_gndspeed', 'uway_roll', 'uway_pitch', 'uway_heave', 'uway_depthm', 'uway_flowrate', 'uway_fluo', 'uway_trans', 'uway_wind_vel', 'uway_air_temp', 'uway_wind_dir', 'uway_humidity', 'uway_baro', 'uway_par1', 'uway_tir1', 'uway_par2', 'uway_tir2', 'uway_sal', 'uway_sst', 'uway_thermosalinograph_temp', 'uway_conductivity', 'uway_lon']\n"
     ]
    }
   ],
   "source": [
    "# These are the keys associated with underway meta data, which have the same temporal binning as the ACS data\n",
    "uway_keys = [s for s in keys if \"uway\" in s]\n",
    "print(uway_keys)"
   ]
  },
  {
   "cell_type": "code",
   "execution_count": 24,
   "id": "04249f29",
   "metadata": {},
   "outputs": [],
   "source": [
    "# Geographic coordinates\n",
    "lat =  data_nc['uway_lat'] \n",
    "lon =  data_nc['uway_lon'] \n",
    "\n",
    "# Sea surface temperature and salinity\n",
    "sst =  data_nc['uway_sst'] \n",
    "sal =  data_nc['uway_sal'] "
   ]
  },
  {
   "cell_type": "markdown",
   "id": "634b7c8e",
   "metadata": {},
   "source": [
    "### 2.2 IOP data: cruises with two ACS systems\n",
    "\n",
    "AMT 24 and AMT 25 had 2 ACS systems and no AC9 system. AMT 25 is used as an example."
   ]
  },
  {
   "cell_type": "code",
   "execution_count": 25,
   "id": "dde39154",
   "metadata": {},
   "outputs": [],
   "source": [
    "fn_nc = 'amt25_final_with_debiased_chl.nc'\n",
    "data_nc = xr.open_dataset(data_dir_nc + fn_nc)\n",
    "keys = data_nc.keys()"
   ]
  },
  {
   "cell_type": "code",
   "execution_count": 26,
   "id": "f25b98c8",
   "metadata": {},
   "outputs": [
    {
     "name": "stdout",
     "output_type": "stream",
     "text": [
      "['acs_chl', 'acs_ap', 'acs_ap_u', 'acs_bp', 'acs_bp_u', 'acs_cp', 'acs_cp_u', 'acs_N', 'acs2_chl', 'acs2_ap', 'acs2_ap_u', 'acs2_bp', 'acs2_bp_u', 'acs2_cp', 'acs2_cp_u', 'acs2_N', 'acs_chl_debiased', 'acs2_chl_debiased', 'acs_chl_nomedfilt', 'acs_chl_debiased_nomedfilt', 'acs2_chl_nomedfilt', 'acs2_chl_debiased_nomedfilt']\n",
      "['acs2_chl', 'acs2_ap', 'acs2_ap_u', 'acs2_bp', 'acs2_bp_u', 'acs2_cp', 'acs2_cp_u', 'acs2_N', 'acs2_chl_debiased', 'acs2_chl_nomedfilt', 'acs2_chl_debiased_nomedfilt']\n"
     ]
    }
   ],
   "source": [
    "# These are the keys associated with the first ACS system \n",
    "acs_keys = [s for s in keys  if \"acs\" in s]\n",
    "print(acs_keys)\n",
    "\n",
    "# These are the keys associated with the second ACS system \n",
    "acs2_keys = [s for s in keys  if \"acs2\" in s]\n",
    "print(acs2_keys)"
   ]
  },
  {
   "cell_type": "code",
   "execution_count": 27,
   "id": "e62dc7bd",
   "metadata": {},
   "outputs": [],
   "source": [
    "# Data from the first ACS system are acccessed as before.\n",
    "# Data from the second ACS system, are accessed using `acs2_XXX' as a key identifier.\n",
    "\n",
    "ap = data_nc['acs_ap'] # particulate absorption - system 1\n",
    "ap_u = data_nc['acs_ap_u']  # particulate absorption uncertainty -system 2\n",
    "\n",
    "ap = data_nc['acs2_ap'] # particulate absorption - system 1\n",
    "ap_u = data_nc['acs2_ap_u']  # particulate absorption uncertainty - system 3\n",
    "\n",
    "wl = data_nc['acs_wv'] # wavelength of ACS IOP data - system 1\n",
    "wl = data_nc['acs2_wv'] # wavelength of ACS IOP data - system 2\n",
    "time = data_nc['time'] # timestamp of ACS IOP data for both systems (acs and acs2 data are nan-padded where data is missing)"
   ]
  },
  {
   "cell_type": "markdown",
   "id": "4837738d",
   "metadata": {},
   "source": [
    "###  2.3 IOP data: cruises with an AC9 system\n",
    "\n",
    "\n",
    "AMT 19 and AMT 28 had and ACS and AC9 system. AMT 28 is used as an example for AC9 data access."
   ]
  },
  {
   "cell_type": "code",
   "execution_count": 28,
   "id": "e1c0ebde",
   "metadata": {},
   "outputs": [],
   "source": [
    "fn_nc = 'amt28_final_with_debiased_chl.nc'\n",
    "data_nc = xr.open_dataset(data_dir_nc + fn_nc)\n"
   ]
  },
  {
   "cell_type": "code",
   "execution_count": 29,
   "id": "048c597b",
   "metadata": {},
   "outputs": [
    {
     "name": "stdout",
     "output_type": "stream",
     "text": [
      "[]\n"
     ]
    }
   ],
   "source": [
    "# These are the keys associated with the AC9 system \n",
    "ac9_keys = [s for s in keys  if \"ac9\" in s]\n",
    "print(ac9_keys)"
   ]
  },
  {
   "cell_type": "code",
   "execution_count": 30,
   "id": "e209e0f8",
   "metadata": {},
   "outputs": [],
   "source": [
    "# Similar to the ACS data, AC9 IOP data can be accessed as follows:\n",
    "ap = data_nc['ac9_ap'] # particulate absorption\n",
    "ap_u = data_nc['ac9_ap_u']  # particulate absorption uncertainty\n",
    "\n",
    "wl = data_nc['ac9_wv'] # wavelength of ACS IOP data\n",
    "time = data_nc['time'] # timestamp of ACS IOP data"
   ]
  },
  {
   "cell_type": "code",
   "execution_count": 31,
   "id": "090a29b1",
   "metadata": {},
   "outputs": [
    {
     "name": "stdout",
     "output_type": "stream",
     "text": [
      "<xarray.DataArray 'acx_chl_debiased' (time: 33331)>\n",
      "[33331 values with dtype=float64]\n",
      "Coordinates:\n",
      "  * time     (time) datetime64[ns] 2018-09-25T21:11:00.000000768 ... 2018-10-...\n",
      "Attributes:\n",
      "    debiasing_equation:   acs.acx_chl_deiased = acs.acx_chl*(1-delta)\n",
      "    delta:                -0.08622876858169187\n",
      "    sigma:                0.15975085813203055\n",
      "    units:                mg/m3\n",
      "    comments:             delta=np.nanmedian(rres), sigma=prcrng(rres), rres=...\n",
      "    HPLC_Tot_chla:        [  nan   nan   nan   nan 0.706   nan   nan   nan 0....\n",
      "    HPLC_Tot_chla_units:  mg/m3\n",
      "    acx_chl:              [       nan 0.43558088 0.46063176 0.45621889 0.5321...\n",
      "    acx_chl_units:        mg/m3\n",
      "    processed_on:         2024-02-29 15:46:22.453958\n",
      "    match_up_dates:       ['2018-09-25 12:35:00', '2018-09-26 03:34:00', '201...\n"
     ]
    }
   ],
   "source": [
    "# The HPLC-callibrated (debiased) Tot_Chl_a transects for AMT 19 and 28 combine ACS and AC9 line-height estimates.\n",
    "# These data can be accessed as follows:\n",
    "\n",
    "chl_acx =  data_nc['acx_chl_debiased'] # transect with median filter (30 min kernel) as used in callibration match-ups \n",
    "chl_acx =  data_nc['acx_chl_debiased_nomedfilt'] #  unfiltered transect (as saved in SeaBASS files)\n",
    "\n",
    "print(data_nc['acx_chl_debiased']) # data regarding the calibration are stored as attributes"
   ]
  },
  {
   "cell_type": "markdown",
   "id": "00d38891",
   "metadata": {},
   "source": [
    "### 2.4 HPLC data.\n",
    "HPLC data is stored in a similar way within each NetCDF file."
   ]
  },
  {
   "cell_type": "code",
   "execution_count": 32,
   "id": "623a1215",
   "metadata": {},
   "outputs": [],
   "source": [
    "fn_nc = 'amt28_final_with_debiased_chl.nc'\n",
    "data_nc = xr.open_dataset(data_dir_nc + fn_nc)"
   ]
  },
  {
   "cell_type": "code",
   "execution_count": 33,
   "id": "84e2e7fb",
   "metadata": {},
   "outputs": [
    {
     "name": "stdout",
     "output_type": "stream",
     "text": [
      "['hplc_label', 'hplc_sample_collector', 'hplc_cruise_name', 'hplc_volume_filtered_(l)', 'hplc_name_of_water_body', 'hplc_depth', 'hplc_filter_storage_before_analysis', 'hplc_filter_type', 'hplc_filter_diameter', 'hplc_Tot_Chl_a', 'hplc_Tot_Chl_b', 'hplc_Tot_Chl_c', 'hplc_Alpha-beta-Car', 'hplc_Allo', 'hplc_But-fuco', 'hplc_Diadino', 'hplc_Diato', 'hplc_Fuco', 'hplc_Hex-fuco', 'hplc_Perid', 'hplc_Zea', 'hplc_Chl_a', 'hplc_DV_Chl_a', 'hplc_Chlide_a', 'hplc_Mg_DVP', 'hplc_PML_only_Chl_b_DVChl_b', 'hplc_Chl_c1', 'hplc_Chl_c2', 'hplc_Chl_c3', 'hplc_beta-epi-Car', 'hplc_beta-beta-Car', 'hplc_Lut', 'hplc_Neo', 'hplc_Viola', 'hplc_Pras', 'hplc_PML_only_Anth', 'hplc_Asta', 'hplc_blank_intentionally', 'hplc_TChl', 'hplc_PPC', 'hplc_PSC', 'hplc_PSP', 'hplc_Tacc', 'hplc_Tpg', 'hplc_station', 'hplc_ctd', 'hplc_bottle', 'hplc_sample_detph_(m)', 'hplc_lat', 'hplc_lon', 'hplc_variable', 'hplc_volume_(l)', 'hplc_replicate_(a_=_no,_b_=_yes)', 'hplc_name', 'hplc_cryobox_hplc', 'hplc_notes', 'hplc_n_=_other,_s_=_surface;_d_=_dcm', 'hplc_unnamed:_15', 'hplc_Chl_c1c2', 'hplc_Tcar', 'hplc_DP', 'hplc_file']\n"
     ]
    }
   ],
   "source": [
    "# These are the keys associated with HPLC pigments\n",
    "hplc_keys = [s for s in keys  if \"hplc\" in s]\n",
    "print(hplc_keys)\n"
   ]
  },
  {
   "cell_type": "code",
   "execution_count": 34,
   "id": "c48d3dea",
   "metadata": {},
   "outputs": [],
   "source": [
    "# Primary pigments can be accessed as follows:\n",
    "\n",
    "# Chlorophylls\n",
    "Tot_Chl_a = data_nc['hplc_Tot_Chl_a']\n",
    "Tot_Chl_b = data_nc['hplc_Tot_Chl_b']\n",
    "Tot_Chl_c = data_nc['hplc_Tot_Chl_c']\n",
    "\n",
    "# Photoprotective carotenoids \n",
    "Allo = data_nc['hplc_Allo']\n",
    "Alpha_beta_car = data_nc['hplc_Alpha-beta-Car']\n",
    "Diato = data_nc['hplc_Diato']\n",
    "Diadino = data_nc['hplc_Diadino']\n",
    "Zea = data_nc['hplc_Zea']\n",
    "PPC = data_nc['hplc_PPC']\n",
    "\n",
    "#Photosynthetic carotenoids\n",
    "But_fuco = data_nc['hplc_But-fuco']\n",
    "Fuco = data_nc['hplc_Fuco']\n",
    "Hex_fuco = data_nc['hplc_Hex-fuco']\n",
    "Period = data_nc['hplc_Perid']\n",
    "PSC = data_nc['hplc_PSC']"
   ]
  },
  {
   "cell_type": "code",
   "execution_count": 35,
   "id": "908ba5a4",
   "metadata": {},
   "outputs": [],
   "source": [
    "# Lat, lon, timestamps for HPLC samples can be accessed as folows:\n",
    "hplc_lat = data_nc['hplc_lat']\n",
    "hplc_lon = data_nc['hplc_lon']\n",
    "hplc_time = data_nc['hplc_time']\n",
    "\n",
    "# Other metadata fields are available (see previous keys list), which varies between cruises and the HPLC labs \n",
    "# who carried out the analysis\n"
   ]
  },
  {
   "cell_type": "code",
   "execution_count": null,
   "id": "0dc935e5",
   "metadata": {},
   "outputs": [],
   "source": []
  }
 ],
 "metadata": {
  "kernelspec": {
   "display_name": "Python 3 (ipykernel)",
   "language": "python",
   "name": "python3"
  },
  "language_info": {
   "codemirror_mode": {
    "name": "ipython",
    "version": 3
   },
   "file_extension": ".py",
   "mimetype": "text/x-python",
   "name": "python",
   "nbconvert_exporter": "python",
   "pygments_lexer": "ipython3",
   "version": "3.8.13"
  }
 },
 "nbformat": 4,
 "nbformat_minor": 5
}
